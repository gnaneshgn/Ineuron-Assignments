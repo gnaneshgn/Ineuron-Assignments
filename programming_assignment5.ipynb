{
 "cells": [
  {
   "cell_type": "markdown",
   "metadata": {},
   "source": [
    "1.\tWrite a Python Program to Find LCM?"
   ]
  },
  {
   "cell_type": "code",
   "execution_count": 1,
   "metadata": {},
   "outputs": [],
   "source": [
    "def lcm(x,y):\n",
    "    \"\"\"THis function will give lcm of two numbers\"\"\"\n",
    "    try:\n",
    "        if type(x)!=int or type(y)!=int:\n",
    "            raise Exception(\"Pass Integer only\")\n",
    "        else:\n",
    "            if x > y:\n",
    "                greater = x\n",
    "            else:\n",
    "                greater = y\n",
    "            while(True):\n",
    "                if((greater % x == 0) and (greater % y == 0)):\n",
    "                    lcm = greater\n",
    "                    break\n",
    "                    greater = greater+1\n",
    "            return lcm\n",
    "    except Exception as e:\n",
    "        print(e)"
   ]
  },
  {
   "cell_type": "code",
   "execution_count": 2,
   "metadata": {},
   "outputs": [
    {
     "data": {
      "text/plain": [
       "4"
      ]
     },
     "execution_count": 2,
     "metadata": {},
     "output_type": "execute_result"
    }
   ],
   "source": [
    "lcm(4,2)"
   ]
  },
  {
   "cell_type": "code",
   "execution_count": 3,
   "metadata": {},
   "outputs": [],
   "source": [
    "def compute_hcf(x, y):\n",
    "    \"\"\"This fucntions gives HCF of two numbers\"\"\"\n",
    "    try:\n",
    "        if type(x)!=int or type(y)!=int:\n",
    "            raise Exception(\"Pass Integer only\")\n",
    "        else:\n",
    "            if x > y:\n",
    "                smaller = y\n",
    "            else:\n",
    "                smaller = x\n",
    "            for i in range(1, smaller+1):\n",
    "                if((x % i == 0) and (y % i == 0)):\n",
    "                    hcf = i \n",
    "            return hcf\n",
    "    except Exception as e:\n",
    "        print(e)\n",
    "\n"
   ]
  },
  {
   "cell_type": "code",
   "execution_count": 4,
   "metadata": {},
   "outputs": [
    {
     "data": {
      "text/plain": [
       "6"
      ]
     },
     "execution_count": 4,
     "metadata": {},
     "output_type": "execute_result"
    }
   ],
   "source": [
    "compute_hcf(54,24)"
   ]
  },
  {
   "cell_type": "markdown",
   "metadata": {},
   "source": [
    "3.\tWrite a Python Program to Convert Decimal to Binary, Octal and Hexadecimal?"
   ]
  },
  {
   "cell_type": "code",
   "execution_count": 9,
   "metadata": {},
   "outputs": [],
   "source": [
    "def binaryConversion(n):\n",
    "    \"\"\"This function converts decimal to binary\"\"\"\n",
    "    try:\n",
    "        if type(n)!=int or type(n)!=float:\n",
    "            raise Exception(\"pass properly\")\n",
    "        else:\n",
    "            if n>0:\n",
    "                binaryConversion(num // 2)\n",
    "            print(n%2,end='')\n",
    "    except Exception as e:\n",
    "        print(e)"
   ]
  },
  {
   "cell_type": "markdown",
   "metadata": {},
   "source": [
    "4.\tWrite a Python Program To Find ASCII value of a character?"
   ]
  },
  {
   "cell_type": "code",
   "execution_count": 11,
   "metadata": {},
   "outputs": [],
   "source": [
    "def asciiValue(c):\n",
    "    try:\n",
    "        if type(c)==int:\n",
    "            return chr(c)\n",
    "        elif type(c)==str:\n",
    "            return ord(c)\n",
    "    except Exception as e:\n",
    "        print(e)"
   ]
  },
  {
   "cell_type": "code",
   "execution_count": 13,
   "metadata": {},
   "outputs": [
    {
     "data": {
      "text/plain": [
       "'\\x0c'"
      ]
     },
     "execution_count": 13,
     "metadata": {},
     "output_type": "execute_result"
    }
   ],
   "source": [
    "asciiValue(12)"
   ]
  },
  {
   "cell_type": "markdown",
   "metadata": {},
   "source": [
    "5.\tWrite a Python Program to Make a Simple Calculator with 4 basic mathematical operations?"
   ]
  },
  {
   "cell_type": "code",
   "execution_count": 21,
   "metadata": {},
   "outputs": [],
   "source": [
    "def simpleCal(val1,val2,operation):\n",
    "    \"\"\"THis function will give simple calcuted result\"\"\"\n",
    "    try:\n",
    "        if type(operation)==str:\n",
    "            if operation =='+' or operation == 'add':\n",
    "                return val1+val2\n",
    "            elif operation=='-' or operation == 'subtraction':\n",
    "                return val1-val2\n",
    "            elif operation =='*' or operation == 'multiplication':\n",
    "                return val1*val2\n",
    "            elif operation =='/' or operation =='division':\n",
    "                if val2<0 or val2==0:\n",
    "                    raise Exception (\"Pass val2 greater than 0\")\n",
    "                else:\n",
    "                    return val1/val2\n",
    "            else:\n",
    "                print(\"Calculator has  +-*/ or add subtraction multiplcation division\")\n",
    "        else:\n",
    "            print(\"operation must be +-*/ or add subtraction multiplcation division\")\n",
    "    except Exception as e:\n",
    "        print(e)\n",
    "        "
   ]
  },
  {
   "cell_type": "code",
   "execution_count": 20,
   "metadata": {},
   "outputs": [
    {
     "data": {
      "text/plain": [
       "25"
      ]
     },
     "execution_count": 20,
     "metadata": {},
     "output_type": "execute_result"
    }
   ],
   "source": [
    "simpleCal(5,5,\"*\")"
   ]
  },
  {
   "cell_type": "code",
   "execution_count": null,
   "metadata": {},
   "outputs": [],
   "source": []
  }
 ],
 "metadata": {
  "kernelspec": {
   "display_name": "Python 3",
   "language": "python",
   "name": "python3"
  },
  "language_info": {
   "codemirror_mode": {
    "name": "ipython",
    "version": 3
   },
   "file_extension": ".py",
   "mimetype": "text/x-python",
   "name": "python",
   "nbconvert_exporter": "python",
   "pygments_lexer": "ipython3",
   "version": "3.8.5"
  }
 },
 "nbformat": 4,
 "nbformat_minor": 4
}
