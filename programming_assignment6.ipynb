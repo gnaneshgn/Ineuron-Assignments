{
 "cells": [
  {
   "cell_type": "markdown",
   "metadata": {},
   "source": [
    "1.\tWrite a Python Program to Display Fibonacci Sequence Using Recursion?"
   ]
  },
  {
   "cell_type": "code",
   "execution_count": 19,
   "metadata": {},
   "outputs": [],
   "source": [
    "def fibonacciRecursion(n):\n",
    "    \"\"\"THis function is used to return fibonacci series\"\"\"\n",
    "    try:\n",
    "        if type(n)!=int:\n",
    "            raise Exception(\"wrong input passed\")\n",
    "        else:\n",
    "            if n<=1:\n",
    "                return n\n",
    "            else:\n",
    "                return fibonacciRecursion(n-1)+fibonacciRecursion(n-2)\n",
    "                \n",
    "    except Exception as e:\n",
    "        print(e)"
   ]
  },
  {
   "cell_type": "code",
   "execution_count": null,
   "metadata": {},
   "outputs": [],
   "source": []
  },
  {
   "cell_type": "code",
   "execution_count": 22,
   "metadata": {},
   "outputs": [
    {
     "name": "stdout",
     "output_type": "stream",
     "text": [
      "enter recusive number10\n",
      "0\n",
      "1\n",
      "1\n",
      "2\n",
      "3\n",
      "5\n",
      "8\n",
      "13\n",
      "21\n",
      "34\n"
     ]
    }
   ],
   "source": [
    "n=int(input(\"enter recusive number\"))\n",
    "for i in range(n):\n",
    "    print(fibonacciRecursion(i))"
   ]
  },
  {
   "cell_type": "markdown",
   "metadata": {},
   "source": [
    "2.\tWrite a Python Program to Find Factorial of Number Using Recursion?"
   ]
  },
  {
   "cell_type": "code",
   "execution_count": 38,
   "metadata": {},
   "outputs": [],
   "source": [
    "def factoraialRecursion(n):\n",
    "    \"\"\"THis function is used to return factorialof a number\"\"\"\n",
    "    try:\n",
    "        if type(n)!=int:\n",
    "            raise Exception(\"wrong input passed\")\n",
    "        else:\n",
    "            while n>0:\n",
    "                if n==1:\n",
    "                    return n\n",
    "                else:\n",
    "                    return n*factoraialRecursion(n-1)\n",
    "            \n",
    "                \n",
    "    except Exception as e:\n",
    "        print(e)\n",
    "    "
   ]
  },
  {
   "cell_type": "code",
   "execution_count": 37,
   "metadata": {},
   "outputs": [
    {
     "data": {
      "text/plain": [
       "40320"
      ]
     },
     "execution_count": 37,
     "metadata": {},
     "output_type": "execute_result"
    }
   ],
   "source": [
    "factoraialRecursion(8)"
   ]
  },
  {
   "cell_type": "markdown",
   "metadata": {},
   "source": [
    "3.\tWrite a Python Program to calculate your Body Mass Index?"
   ]
  },
  {
   "cell_type": "code",
   "execution_count": 66,
   "metadata": {},
   "outputs": [],
   "source": [
    "import math\n",
    "def BmiCalcuator():\n",
    "    \"\"\"This function returns BMI \"\"\"\n",
    "    try:\n",
    "        weight=int(input(\"ENter weight\"))\n",
    "        height=int(input(\"ENter height\"))\n",
    "        if weight!=0 and height!=0:\n",
    "            bmi=round(weight/height**2,5)*10000\n",
    "            return \"your BMI is {}\".format(bmi)\n",
    "    except ValueError as ve:\n",
    "        print(\"Enter weight and height in value only..!!\")\n",
    "    "
   ]
  },
  {
   "cell_type": "code",
   "execution_count": 67,
   "metadata": {},
   "outputs": [
    {
     "name": "stdout",
     "output_type": "stream",
     "text": [
      "ENter weight72\n",
      "ENter height172\n"
     ]
    },
    {
     "data": {
      "text/plain": [
       "'your BMI is 24.299999999999997'"
      ]
     },
     "execution_count": 67,
     "metadata": {},
     "output_type": "execute_result"
    }
   ],
   "source": [
    "BmiCalcuator()"
   ]
  },
  {
   "cell_type": "markdown",
   "metadata": {},
   "source": [
    "4.\tWrite a Python Program to calculate the natural logarithm of any number?"
   ]
  },
  {
   "cell_type": "code",
   "execution_count": 69,
   "metadata": {},
   "outputs": [],
   "source": [
    "import math\n",
    "def naturalLog(n):\n",
    "    \"\"\"THis function is used to calculate natrual logarithm of a number\"\"\"\n",
    "    try:\n",
    "        if type(n)==str:\n",
    "            raise ValueError(\"wrong format\")\n",
    "        else:\n",
    "            return math.log(n)\n",
    "    except ValueError as ve:\n",
    "        print(ve)\n",
    "    "
   ]
  },
  {
   "cell_type": "code",
   "execution_count": 70,
   "metadata": {},
   "outputs": [
    {
     "name": "stdout",
     "output_type": "stream",
     "text": [
      "wrong format\n"
     ]
    }
   ],
   "source": [
    "naturalLog(\"dfdf\")"
   ]
  },
  {
   "cell_type": "code",
   "execution_count": 71,
   "metadata": {},
   "outputs": [
    {
     "data": {
      "text/plain": [
       "1.6094379124341003"
      ]
     },
     "execution_count": 71,
     "metadata": {},
     "output_type": "execute_result"
    }
   ],
   "source": [
    "naturalLog(5)"
   ]
  },
  {
   "cell_type": "markdown",
   "metadata": {},
   "source": [
    "5.\tWrite a Python Program for cube sum of first n natural numbers?"
   ]
  },
  {
   "cell_type": "code",
   "execution_count": 74,
   "metadata": {},
   "outputs": [],
   "source": [
    "def firstNnatural(n):\n",
    "    \"\"\"THis function defines sum of first natural numbers\"\"\"\n",
    "    try:\n",
    "        if type(n)!=int:\n",
    "            raise Exception(\"wrong input format..!!\")\n",
    "        else:\n",
    "            s=0\n",
    "            for i in range(1,n+1):\n",
    "                s=s+i*i*i\n",
    "            return s\n",
    "    except Exception as e:\n",
    "        print(e)\n",
    "            \n",
    "    "
   ]
  },
  {
   "cell_type": "code",
   "execution_count": 75,
   "metadata": {},
   "outputs": [
    {
     "name": "stdout",
     "output_type": "stream",
     "text": [
      "wrong input format..!!\n"
     ]
    }
   ],
   "source": [
    "firstNnatural(\"8\")"
   ]
  },
  {
   "cell_type": "code",
   "execution_count": 76,
   "metadata": {},
   "outputs": [
    {
     "data": {
      "text/plain": [
       "1296"
      ]
     },
     "execution_count": 76,
     "metadata": {},
     "output_type": "execute_result"
    }
   ],
   "source": [
    "firstNnatural(8)"
   ]
  },
  {
   "cell_type": "code",
   "execution_count": null,
   "metadata": {},
   "outputs": [],
   "source": []
  }
 ],
 "metadata": {
  "kernelspec": {
   "display_name": "Python 3",
   "language": "python",
   "name": "python3"
  },
  "language_info": {
   "codemirror_mode": {
    "name": "ipython",
    "version": 3
   },
   "file_extension": ".py",
   "mimetype": "text/x-python",
   "name": "python",
   "nbconvert_exporter": "python",
   "pygments_lexer": "ipython3",
   "version": "3.8.5"
  }
 },
 "nbformat": 4,
 "nbformat_minor": 4
}
