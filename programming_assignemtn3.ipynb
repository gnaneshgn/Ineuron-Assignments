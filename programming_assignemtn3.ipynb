{
 "cells": [
  {
   "cell_type": "markdown",
   "metadata": {},
   "source": [
    "1.\tWrite a Python Program to Check if a Number is Positive, Negative or Zero?"
   ]
  },
  {
   "cell_type": "code",
   "execution_count": 5,
   "metadata": {},
   "outputs": [],
   "source": [
    "def numbercheck(a):\n",
    "    \"\"\"This function checks whether a number is +ve or -ve or 0\"\"\"\n",
    "    try:\n",
    "        if a>0:\n",
    "            print(\"the number ,\",a,\"is postive number\")\n",
    "        elif a<0:\n",
    "            print(\"the number \",a,\"is negative number\")\n",
    "        else:\n",
    "            print(\"the number \",a,\"is equal to 0\")\n",
    "    except Exception as e:\n",
    "        print(\"Try to pass numbers only\")\n",
    "    except "
   ]
  },
  {
   "cell_type": "code",
   "execution_count": 6,
   "metadata": {},
   "outputs": [
    {
     "name": "stdout",
     "output_type": "stream",
     "text": [
      "Try to pass numbers only\n"
     ]
    }
   ],
   "source": [
    "numbercheck(\"ffsd\")"
   ]
  },
  {
   "cell_type": "code",
   "execution_count": 7,
   "metadata": {},
   "outputs": [
    {
     "name": "stdout",
     "output_type": "stream",
     "text": [
      "the number , 5 is postive number\n"
     ]
    }
   ],
   "source": [
    "numbercheck(5)"
   ]
  },
  {
   "cell_type": "code",
   "execution_count": 8,
   "metadata": {},
   "outputs": [
    {
     "name": "stdout",
     "output_type": "stream",
     "text": [
      "the number  -5 is negative number\n"
     ]
    }
   ],
   "source": [
    "numbercheck(-5)"
   ]
  },
  {
   "cell_type": "code",
   "execution_count": 9,
   "metadata": {},
   "outputs": [
    {
     "name": "stdout",
     "output_type": "stream",
     "text": [
      "the number  0 is equal to 0\n"
     ]
    }
   ],
   "source": [
    "numbercheck(0)"
   ]
  },
  {
   "cell_type": "code",
   "execution_count": 10,
   "metadata": {},
   "outputs": [
    {
     "name": "stdout",
     "output_type": "stream",
     "text": [
      "the number , 5.5 is postive number\n"
     ]
    }
   ],
   "source": [
    "numbercheck(5.5)"
   ]
  },
  {
   "cell_type": "code",
   "execution_count": 11,
   "metadata": {},
   "outputs": [
    {
     "name": "stdout",
     "output_type": "stream",
     "text": [
      "the number , 2.5 is postive number\n"
     ]
    }
   ],
   "source": [
    "numbercheck(5/2)"
   ]
  },
  {
   "cell_type": "code",
   "execution_count": 13,
   "metadata": {},
   "outputs": [
    {
     "name": "stdout",
     "output_type": "stream",
     "text": [
      "Bruh \n"
     ]
    }
   ],
   "source": [
    "try:\n",
    "    numbercheck(5/0)\n",
    "except Exception as e:\n",
    "    print(\"Bruh \")"
   ]
  },
  {
   "cell_type": "markdown",
   "metadata": {},
   "source": [
    "2.\tWrite a Python Program to Check if a Number is Odd or Even?"
   ]
  },
  {
   "cell_type": "code",
   "execution_count": 35,
   "metadata": {},
   "outputs": [],
   "source": [
    "def evenOrodd(a):\n",
    "    \"\"\"This function tells whether a number given is even or odd \"\"\"\n",
    "    if type(a)==int:\n",
    "        if a%2==0:\n",
    "            print(\"the num a\",a,\"is even\")\n",
    "        else:\n",
    "            print(\"the num a\",a,\"is odd\")\n",
    "    else:\n",
    "        print(\"Pass only inergers\")\n"
   ]
  },
  {
   "cell_type": "code",
   "execution_count": 36,
   "metadata": {},
   "outputs": [
    {
     "name": "stdout",
     "output_type": "stream",
     "text": [
      "Pass only inergers\n"
     ]
    }
   ],
   "source": [
    "evenOrodd(\"6\")"
   ]
  },
  {
   "cell_type": "code",
   "execution_count": 37,
   "metadata": {},
   "outputs": [
    {
     "name": "stdout",
     "output_type": "stream",
     "text": [
      "the num a 6 is even\n"
     ]
    }
   ],
   "source": [
    "evenOrodd(6)"
   ]
  },
  {
   "cell_type": "markdown",
   "metadata": {},
   "source": [
    "3.\tWrite a Python Program to Check Leap Year?"
   ]
  },
  {
   "cell_type": "code",
   "execution_count": 45,
   "metadata": {},
   "outputs": [],
   "source": [
    "def checkleapyear(year):\n",
    "    \"\"\"THis function checks whether it is a leap year or not\"\"\"\n",
    "    if type(year)==int:\n",
    "        if (year % 400 == 0) and (year % 100 == 0):\n",
    "            print(\"{0} is a leap year\".format(year))\n",
    "        elif (year % 4 ==0) and (year % 100 != 0):\n",
    "            print(\"{0} is a leap year\".format(year))\n",
    "        else:\n",
    "            print(\"{0} is not a leap year\".format(year))\n",
    "    else:\n",
    "        print(\"please pass integer value only\")"
   ]
  },
  {
   "cell_type": "code",
   "execution_count": 46,
   "metadata": {},
   "outputs": [
    {
     "name": "stdout",
     "output_type": "stream",
     "text": [
      "please pass integer value only\n"
     ]
    }
   ],
   "source": [
    "checkleapyear(\"2000\")"
   ]
  },
  {
   "cell_type": "code",
   "execution_count": 48,
   "metadata": {},
   "outputs": [
    {
     "name": "stdout",
     "output_type": "stream",
     "text": [
      "0 is a leap year\n"
     ]
    }
   ],
   "source": [
    "checkleapyear(0)"
   ]
  },
  {
   "cell_type": "markdown",
   "metadata": {},
   "source": [
    "4.\tWrite a Python Program to Check Prime Number?"
   ]
  },
  {
   "cell_type": "code",
   "execution_count": 74,
   "metadata": {},
   "outputs": [],
   "source": [
    "def checkprimeornot(n):\n",
    "    \"\"\"THis functions checks whether a function is prime or not\"\"\"\n",
    "    start=1\n",
    "    if type(n)==int:\n",
    "        if n>start:\n",
    "            for i in range(2,int(n/2)+1):\n",
    "                if (n%i)==0:\n",
    "                    print(\"number\",n,\"is not a prime number\")\n",
    "                    break\n",
    "                else:\n",
    "                    print(\"number\",n,\"is a prime number\")\n",
    "        else:\n",
    "            print(\"Number is not a prime number\")\n",
    "    else:\n",
    "        print(\"Please pass only integer\")"
   ]
  },
  {
   "cell_type": "code",
   "execution_count": 52,
   "metadata": {},
   "outputs": [
    {
     "name": "stdout",
     "output_type": "stream",
     "text": [
      "number 8 is not a prime number\n"
     ]
    }
   ],
   "source": [
    "checkprimeornot(8)"
   ]
  },
  {
   "cell_type": "code",
   "execution_count": 54,
   "metadata": {},
   "outputs": [
    {
     "name": "stdout",
     "output_type": "stream",
     "text": [
      "Please pass only integer\n"
     ]
    }
   ],
   "source": [
    "checkprimeornot(\"8\")"
   ]
  },
  {
   "cell_type": "code",
   "execution_count": 75,
   "metadata": {},
   "outputs": [
    {
     "name": "stdout",
     "output_type": "stream",
     "text": [
      "number 7 is a prime number\n",
      "number 7 is a prime number\n"
     ]
    }
   ],
   "source": [
    "checkprimeornot(7)"
   ]
  },
  {
   "cell_type": "markdown",
   "metadata": {},
   "source": [
    "5.\tWrite a Python Program to Print all Prime Numbers in an Interval of 1-10000?"
   ]
  },
  {
   "cell_type": "code",
   "execution_count": 103,
   "metadata": {},
   "outputs": [],
   "source": [
    "def printPrimeonly():\n",
    "    \"\"\"This functions gives the prime numbers within range 1-10000\"\"\"\n",
    "    for i in range(1,11):\n",
    "        if i>1:\n",
    "            for j in range(2,i):\n",
    "                if(i%j)==0:\n",
    "                    break\n",
    "            else:\n",
    "                print(i)"
   ]
  },
  {
   "cell_type": "code",
   "execution_count": 104,
   "metadata": {},
   "outputs": [
    {
     "name": "stdout",
     "output_type": "stream",
     "text": [
      "2\n",
      "3\n",
      "5\n",
      "7\n"
     ]
    }
   ],
   "source": [
    "printPrimeonly()"
   ]
  },
  {
   "cell_type": "code",
   "execution_count": null,
   "metadata": {},
   "outputs": [],
   "source": []
  },
  {
   "cell_type": "code",
   "execution_count": 111,
   "metadata": {},
   "outputs": [
    {
     "name": "stdout",
     "output_type": "stream",
     "text": [
      "2\n"
     ]
    }
   ],
   "source": [
    "for i in range(2,3):\n",
    "    print(i)"
   ]
  },
  {
   "cell_type": "code",
   "execution_count": null,
   "metadata": {},
   "outputs": [],
   "source": []
  },
  {
   "cell_type": "code",
   "execution_count": null,
   "metadata": {},
   "outputs": [],
   "source": []
  }
 ],
 "metadata": {
  "kernelspec": {
   "display_name": "Python 3",
   "language": "python",
   "name": "python3"
  },
  "language_info": {
   "codemirror_mode": {
    "name": "ipython",
    "version": 3
   },
   "file_extension": ".py",
   "mimetype": "text/x-python",
   "name": "python",
   "nbconvert_exporter": "python",
   "pygments_lexer": "ipython3",
   "version": "3.8.5"
  }
 },
 "nbformat": 4,
 "nbformat_minor": 4
}
