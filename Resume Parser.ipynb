{
 "cells": [
  {
   "cell_type": "code",
   "execution_count": 109,
   "metadata": {},
   "outputs": [],
   "source": [
    "import os\n",
    "from PyPDF2 import PdfFileReader,PdfFileWriter\n",
    "from docx import Document\n",
    "import re\n",
    "import logging\n",
    "import pandas as pd\n",
    "# from pyresparser import ResumeParser\n",
    "# import nltk\n",
    "# nltk.download()\n",
    "# nltk.download('stopwords')\n",
    "\n",
    "# from nltk.corpus import stopwords\n",
    "\n",
    "# set(stopwords.words(\"english\"))"
   ]
  },
  {
   "cell_type": "code",
   "execution_count": 110,
   "metadata": {},
   "outputs": [],
   "source": [
    "folder_path=\"D:\\IneuronInternship\\Ineuron Batch\\Resumes\""
   ]
  },
  {
   "cell_type": "code",
   "execution_count": 3,
   "metadata": {},
   "outputs": [],
   "source": [
    "class WrongFileFormat(Exception):\n",
    "    \"\"\"User defined Exception for wrong file format\n",
    "    Attributes:\n",
    "        file -- file which caused the error\n",
    "        message -- explanation of the error\n",
    "    \"\"\"\n",
    "    \n",
    "    def __init__(self,file_name,message):\n",
    "        self.file_name=file_name\n",
    "        self.message=message\n",
    "        super().__init__(self.message)\n",
    "    \n",
    "    def __str__(self):\n",
    "        return f'{self.file_name} -> {self.message}'\n",
    "        "
   ]
  },
  {
   "cell_type": "code",
   "execution_count": 5,
   "metadata": {},
   "outputs": [],
   "source": [
    "class InvalidFormat(Exception):\n",
    "    \"\"\"User defined Exception for invalid file format\n",
    "    Attributes:\n",
    "        file -- file which caused the error\n",
    "        message -- explanation of the error\n",
    "    \"\"\"\n",
    "    \n",
    "    def __init__(self,file_name,message):\n",
    "        self.file_name=file_name\n",
    "        self.message=message\n",
    "        super().__init__(self.message)\n",
    "    \n",
    "    def __str__(self):\n",
    "        return f'{self.file_name} -> {self.message}'\n",
    "        "
   ]
  },
  {
   "cell_type": "code",
   "execution_count": 6,
   "metadata": {},
   "outputs": [],
   "source": [
    "class WrongFileName(Exception):\n",
    "    \"\"\"User defined Exception for wrong file name \n",
    "    Attributes:\n",
    "        file_name -- file which caused the error\n",
    "        message -- explanation of the error\n",
    "    \"\"\"\n",
    "    \n",
    "    def __init__(self,file_name,message):\n",
    "        self.file_name=file_name\n",
    "        self.message=message\n",
    "        super().__init__(self.message)\n",
    "    \n",
    "    def __str__(self):\n",
    "        return f'{self.file_name} -> {self.message}'\n",
    "        "
   ]
  },
  {
   "cell_type": "code",
   "execution_count": 47,
   "metadata": {},
   "outputs": [],
   "source": [
    "class searchFiles:\n",
    "    \"\"\"\n",
    "    Files Searcher:gives files in directory\n",
    "    Attributes:\n",
    "        \n",
    "        path -- path where files are present\n",
    "    methods:\n",
    "            startLogger(),getFilesInDirectory(),fileNames()\n",
    "    returns:\n",
    "    \n",
    "    \"\"\"\n",
    "    def __init__(self,path):\n",
    "        logging.info(\"Search Initialized....\")\n",
    "        self.folder_path=path\n",
    "        self.total_files=[]\n",
    "        self.pdf_list=[]\n",
    "        self.docx_list=[]\n",
    "        self.all_files=[]\n",
    "        \n",
    "    def startLogger(self):\n",
    "        \"\"\"\n",
    "            starts logging\n",
    "\n",
    "                    \n",
    "        \"\"\"\n",
    "        logging.info(\"taking user input for file name\")\n",
    "        self.file_name=str(input(\"Enter File name for logs\"))\n",
    "        try:\n",
    "            if type(self.file_name)== str:\n",
    "                logging.info(\"file name given\")\n",
    "                if '.' in self.file_name:\n",
    "                    raise WrongFileName(self.file_name,\"pass only name of the file to be created\")\n",
    "                else:\n",
    "                    logging.info(\"proper extension added for filename\")\n",
    "                    self.file_name=self.file_name+'.log'\n",
    "                    logging.basicConfig(filename=self.file_name, encoding='utf-8', level=logging.DEBUG,format ='%(asctime)s %(levelname)s %(message)s')\n",
    "                    print(\"File created\")\n",
    "                    logging.info(\"Log file created\")\n",
    "            else:\n",
    "                \n",
    "                raise WrongFileFormat(self.file_name,\"Invalid format\")\n",
    "        except WrongFileFormat as wff:\n",
    "            logging.info(\"wrong file format added exception raised\")\n",
    "        except WrongFileName as wfn:\n",
    "            logging.info(\"wrong file extension added exception raised\")\n",
    "                \n",
    "                \n",
    "            \n",
    "        \n",
    "        \n",
    "    def getFilesInDirectory(self):\n",
    "        logging.info(\"returning files in directory\")\n",
    "        list_of_files=os.listdir(folder_path)\n",
    "        for files in list_of_files:\n",
    "            self.total_files.append(files)\n",
    "            \n",
    "        for file in self.total_files:\n",
    "            \n",
    "            file_split=file.split('.')\n",
    "            if 'docx' in file_split:\n",
    "                self.all_files.append(file)\n",
    "                self.docx_list.append(file)\n",
    "            elif 'pdf' in file_split:\n",
    "                self.all_files.append(file)\n",
    "                self.pdf_list.append(file)\n",
    "            else:\n",
    "                logging.error(\"End of files reached\")\n",
    "        logging.info(\"files returned\")\n",
    "        return \"Total files in path \"+self.folder_path+\" are: \"+str(len(self.total_files))+\" Pdf files are :\"+str(len(self.pdf_list))+\" and Doc files are :\"+ str(len(self.docx_list))\n",
    "    \n",
    "    def fileNames(self):\n",
    "        logging.info(\"asking for selection of file format\")\n",
    "        file_type=input(\"Enter file type you want to see.!!\")\n",
    "        logging.info(\"returning files in directory\")\n",
    "        try:\n",
    "            if type(file_type)==str:\n",
    "                if file_type=='pdf':\n",
    "                    logging.info(\"selected file format : pdf\")\n",
    "                    if len(self.pdf_list)>0:\n",
    "                        logging.info(\"returning pdf files\")\n",
    "                        return self.pdf_list\n",
    "                    else:\n",
    "                        logging.warning(\"no pdf files in this directory\")\n",
    "                        return \"No files for file type\"+file_type\n",
    "                elif file_type=='docx' or file_type =='docs':\n",
    "                    logging.info(\"selected format is  : docx\")\n",
    "                    if len(self.docx_list)>0:\n",
    "                        logging.info(\"returning docs files\")\n",
    "                        return self.docx_list\n",
    "                    else:\n",
    "                        logging.warning(\"no docs files in this directory\")\n",
    "                        return \"No files for file type\"+file_type\n",
    "                elif file_type==\"both\" or file_type==\"all\":\n",
    "                    logging.info(\"returning all files\")\n",
    "                    return self.all_files\n",
    "                                        \n",
    "                else:\n",
    "                    logging.error(\"different format file exists in directory\")\n",
    "                    raise InvalidFormat(str(file_type),\"Make sure only pdf or docs or docx are in the directory\")\n",
    "            else:\n",
    "                raise WrongFileFormat(str(file_type),\"format mis-match\")\n",
    "        except InvalidFormat as inf:\n",
    "            logging.error(\"different format file exists in directory\")\n",
    "        except WrongFileFormat as wff:\n",
    "            logging.error(\"wrong file name passed other than string\")\n",
    "            \n",
    "            \n",
    "            \n",
    "\n",
    "            "
   ]
  },
  {
   "cell_type": "code",
   "execution_count": null,
   "metadata": {},
   "outputs": [],
   "source": []
  },
  {
   "cell_type": "code",
   "execution_count": 112,
   "metadata": {},
   "outputs": [],
   "source": [
    "class ResumeSearcher():\n",
    "    \"\"\"\n",
    "    Resume Searcher for github,linkedin,email\n",
    "    Attributes:\n",
    "        file_names -- list of file names \n",
    "        ###Note:list of file names can be obtained from filenames in \"searchFiles\" class\n",
    "        folder_path -- path where resumes are present\n",
    "    methods:\n",
    "            getLinekedInData(),getEmail(),getGithubData()\n",
    "    returns:\n",
    "            list type data\n",
    "    \"\"\"\n",
    "    def __init__(self,file_names,folder_path):\n",
    "        logging.info(\"Resumer searcher intialized..\")\n",
    "        self.file_names=file_names\n",
    "        self.folder_path=folder_path\n",
    "        self.linkedin=[]\n",
    "        self.github=[]\n",
    "        self.email=[]\n",
    "        self.skillset=[]\n",
    "        self.allfiles=[]\n",
    "        if len(file_names)==17:\n",
    "            for f in file_names:\n",
    "                self.allfiles.append(f)\n",
    "        \n",
    "        \n",
    "    \n",
    "    def getLinkedInData(self):\n",
    "        \"\"\"returns Linkedin id if present in docs or pdf\"\"\"\n",
    "        logging.info(\"called for linkedin data\")\n",
    "        linkedin_pattern=\"www.linkedin.com/in/[a-zA-Z-0-9_]*\"\n",
    "        logging.info(\"LinkdeIn pattern intialized..\")\n",
    "        for doc_name in self.file_names:\n",
    "            if 'docx' in doc_name.split('.'):\n",
    "                logging.info(\"Parsing text in docs/docx\")\n",
    "                document=Document(doc_name)\n",
    "                for para in document.paragraphs:\n",
    "                    if len(para.text)>0:\n",
    "                        linkedin_text=re.findall(linkedin_pattern,para.text)\n",
    "                        if linkedin_text!=\"\":\n",
    "                            logging.info(\"data added to list from docs/docx\")\n",
    "                            self.linkedin.extend(linkedin_text)\n",
    "                        else:\n",
    "                            logging.warning(\"no search found ind docs/docx\")\n",
    "                            print(\"no match found\")\n",
    "                    else:\n",
    "                        logging.warning(\"End of file\")\n",
    "                        print(\"End of File\")\n",
    "                            #print(document.paragraphs[2].text)\n",
    "            elif 'pdf' in doc_name.split('.'):\n",
    "                logging.info(\"Parsing text in pdf\")\n",
    "                file = open(doc_name, 'rb')\n",
    "                pdfreader=PdfFileReader(f)\n",
    "                for page_num in range(pdfreader.numPages):\n",
    "                    pageObj=pdfreader.getPage(page_num)\n",
    "                    linkedin_text=re.findall(linkedin_pattern,pageObj.extractText())\n",
    "                    if linkedin_text!=\"\":\n",
    "                        logging.info(\"data added to list from pdf\")\n",
    "                        self.linkedin.extend(linkedin_text)\n",
    "                    else:\n",
    "                        logging.warning(\"no search found in  pdf\")\n",
    "            else:\n",
    "                logging.error(\"no search found for pdf and docs/docx\")\n",
    "                raise InvalidFormat(doc_name,\"Make sure only pdf or docs or docx are in the directory\")\n",
    "                \n",
    "        return self.linkedin\n",
    "            \n",
    "    \n",
    "    def getEmail(self):\n",
    "        \"\"\"returns email id if present in docs or pdf\"\"\"\n",
    "        logging.info(\"called for email data\")\n",
    "        email_pattern=\"[^!@#$%^&*()]*@[gmail.com]+\"\n",
    "        logging.info(\"email pattern intialized..\")\n",
    "        for doc_name in self.file_names:\n",
    "            \n",
    "            if 'docx' in doc_name.split('.'):\n",
    "                logging.info(\"Parsing text in docs/docx\")\n",
    "                document=Document(doc_name)\n",
    "                for para in document.paragraphs:\n",
    "                    \n",
    "                    if len(para.text)>0:\n",
    "                        email_text=re.findall(email_pattern,para.text)\n",
    "                        \n",
    "                        if email_text!='':\n",
    "                            logging.info(\"data added to list from docs/docx\")\n",
    "                            self.email.extend(email_text)\n",
    "                        else:\n",
    "                            logging.warning(\"no search found ind docs/docx\")\n",
    "                    else:\n",
    "                        logging.warning(\"End of file\")\n",
    "                        print(\"End of File\")\n",
    "                            #print(document.paragraphs[2].text)\n",
    "            elif 'pdf' in doc_name.split('.'):\n",
    "                logging.info(\"Parsing text in pdf\")\n",
    "                file = open(doc_name, 'rb')\n",
    "                pdfreader=PdfFileReader(file)\n",
    "                for page_num in range(pdfreader.numPages):\n",
    "                    pageObj=pdfreader.getPage(page_num)\n",
    "                    email_text=re.findall(email_pattern,pageObj.extractText())\n",
    "                    if email_text!=\"\":\n",
    "                        logging.info(\"data added to list from pdf\")\n",
    "                        self.email.extend(email_text)\n",
    "                    else:\n",
    "                        logging.warning(\"no search found in  pdf\")\n",
    "            else:\n",
    "                logging.error(\"no search found for pdf and docs/docx\")\n",
    "                raise InvalidFormat(doc_name,\"Make sure only pdf or docs or docx are in the directory\")\n",
    "                \n",
    "        return self.email\n",
    "    \n",
    "    def getGithubData(self):\n",
    "        \"\"\"returns github id if present in docs or pdf\"\"\"\n",
    "        logging.info(\"called for github data\")\n",
    "        github_pattern=\"github.com/[a-zA-Z0-9]+\"\n",
    "        logging.info(\"github pattern intialized..\")\n",
    "        for doc_name in self.file_names:\n",
    "            \n",
    "            if 'docx' in doc_name.split('.'):\n",
    "                logging.info(\"Parsing text in docs/docx\")\n",
    "                document=Document(doc_name)\n",
    "                for para in document.paragraphs:\n",
    "                    if len(para.text)>0:\n",
    "                        github_text=re.findall(github_pattern,para.text)\n",
    "                        if github_text!='':\n",
    "                            logging.info(\"data added to list from docs/docx\")\n",
    "                            self.github.append(github_text)\n",
    "                        else:\n",
    "                            logging.warning(\"no search found ind docs/docx\")\n",
    "                            print(\"no match found\")\n",
    "                    else:\n",
    "                        logging.warning(\"End of file\")\n",
    "                        print(\"End of File\")\n",
    "                            #print(document.paragraphs[2].text)\n",
    "            elif 'pdf' in doc_name.split('.'):\n",
    "                logging.info(\"Parsing text in pdf\")\n",
    "                file = open(doc_name, 'rb')\n",
    "                pdfreader=PdfFileReader(file)\n",
    "                for page_num in range(pdfreader.numPages):\n",
    "                    pageObj=pdfreader.getPage(page_num)\n",
    "                    github_text=re.findall(github_pattern,pageObj.extractText())\n",
    "                    if github_text!=\"\":\n",
    "                        logging.info(\"data added to list from pdf\")\n",
    "                        self.github.extend(github_text)\n",
    "                    else:\n",
    "                        logging.warning(\"no search found in  pdf\")\n",
    "                        print(\"no match found\")\n",
    "            else:\n",
    "                logging.error(\"no search found for pdf and docs/docx\")\n",
    "                raise InvalidFormat(doc_name,\"Make sure only pdf or docs or docx are in the directory\")                \n",
    "        return self.github\n",
    "    \n",
    "    def getSkillsSet(self):\n",
    "        pass\n",
    "    \n",
    "    def getAllFiles(self):\n",
    "        return self.allfiles\n",
    "            "
   ]
  },
  {
   "cell_type": "code",
   "execution_count": null,
   "metadata": {},
   "outputs": [],
   "source": []
  },
  {
   "cell_type": "code",
   "execution_count": 113,
   "metadata": {},
   "outputs": [],
   "source": [
    "search_files=searchFiles(folder_path)"
   ]
  },
  {
   "cell_type": "code",
   "execution_count": 114,
   "metadata": {},
   "outputs": [
    {
     "name": "stdout",
     "output_type": "stream",
     "text": [
      "Enter File name for logsineuron\n",
      "File created\n"
     ]
    }
   ],
   "source": [
    "search_files.startLogger()"
   ]
  },
  {
   "cell_type": "code",
   "execution_count": 115,
   "metadata": {},
   "outputs": [
    {
     "name": "stderr",
     "output_type": "stream",
     "text": [
      "ERROR:root:End of files reached\n",
      "ERROR:root:End of files reached\n",
      "ERROR:root:End of files reached\n"
     ]
    },
    {
     "data": {
      "text/plain": [
       "'Total files in path D:\\\\IneuronInternship\\\\Ineuron Batch\\\\Resumes are: 20 Pdf files are :11 and Doc files are :6'"
      ]
     },
     "execution_count": 115,
     "metadata": {},
     "output_type": "execute_result"
    }
   ],
   "source": [
    "search_files.getFilesInDirectory()"
   ]
  },
  {
   "cell_type": "code",
   "execution_count": 116,
   "metadata": {},
   "outputs": [
    {
     "name": "stdout",
     "output_type": "stream",
     "text": [
      "Enter file type you want to see.!!pdf\n"
     ]
    }
   ],
   "source": [
    "pdf_files=search_files.fileNames()"
   ]
  },
  {
   "cell_type": "code",
   "execution_count": 117,
   "metadata": {},
   "outputs": [
    {
     "data": {
      "text/plain": [
       "['15+ (1).pdf',\n",
       " '15+.pdf',\n",
       " '20.pdf',\n",
       " '3+.pdf',\n",
       " '5+ .pdf',\n",
       " '5+.pdf',\n",
       " '5.pdf',\n",
       " '6+.pdf',\n",
       " '7+.pdf',\n",
       " 'freasher .pdf',\n",
       " 'mteh fresher.pdf']"
      ]
     },
     "execution_count": 117,
     "metadata": {},
     "output_type": "execute_result"
    }
   ],
   "source": [
    "pdf_files"
   ]
  },
  {
   "cell_type": "code",
   "execution_count": 94,
   "metadata": {},
   "outputs": [
    {
     "name": "stdout",
     "output_type": "stream",
     "text": [
      "Enter file type you want to see.!!both\n"
     ]
    }
   ],
   "source": [
    "all_files=search_files.fileNames()"
   ]
  },
  {
   "cell_type": "code",
   "execution_count": 95,
   "metadata": {},
   "outputs": [
    {
     "data": {
      "text/plain": [
       "['12+ (2).docx',\n",
       " '12+.docx',\n",
       " '15+ (1).pdf',\n",
       " '15+.pdf',\n",
       " '20.pdf',\n",
       " '3+ (2).docx',\n",
       " '3+.docx',\n",
       " '3+.pdf',\n",
       " '4+.docx',\n",
       " '5+ .pdf',\n",
       " '5+.pdf',\n",
       " '5.pdf',\n",
       " '6+.pdf',\n",
       " '7+.pdf',\n",
       " '8+.docx',\n",
       " 'freasher .pdf',\n",
       " 'mteh fresher.pdf']"
      ]
     },
     "execution_count": 95,
     "metadata": {},
     "output_type": "execute_result"
    }
   ],
   "source": [
    "all_files"
   ]
  },
  {
   "cell_type": "code",
   "execution_count": 96,
   "metadata": {},
   "outputs": [
    {
     "name": "stdout",
     "output_type": "stream",
     "text": [
      "Enter file type you want to see.!!docx\n"
     ]
    }
   ],
   "source": [
    "docs_file_name=search_files.fileNames()"
   ]
  },
  {
   "cell_type": "code",
   "execution_count": 97,
   "metadata": {},
   "outputs": [
    {
     "data": {
      "text/plain": [
       "['12+ (2).docx', '12+.docx', '3+ (2).docx', '3+.docx', '4+.docx', '8+.docx']"
      ]
     },
     "execution_count": 97,
     "metadata": {},
     "output_type": "execute_result"
    }
   ],
   "source": [
    "docs_file_name"
   ]
  },
  {
   "cell_type": "code",
   "execution_count": 118,
   "metadata": {},
   "outputs": [],
   "source": [
    "resume_searcher1=ResumeSearcher(docs_file_name,folder_path)\n",
    "resume_searcher2=ResumeSearcher(all_files,folder_path)\n",
    "resume_searcher3=ResumeSearcher(pdf_files,folder_path)"
   ]
  },
  {
   "cell_type": "code",
   "execution_count": 119,
   "metadata": {},
   "outputs": [
    {
     "data": {
      "text/plain": [
       "[]"
      ]
     },
     "execution_count": 119,
     "metadata": {},
     "output_type": "execute_result"
    }
   ],
   "source": [
    "resume_searcher1.getAllFiles()"
   ]
  },
  {
   "cell_type": "code",
   "execution_count": 120,
   "metadata": {},
   "outputs": [
    {
     "data": {
      "text/plain": [
       "['12+ (2).docx',\n",
       " '12+.docx',\n",
       " '15+ (1).pdf',\n",
       " '15+.pdf',\n",
       " '20.pdf',\n",
       " '3+ (2).docx',\n",
       " '3+.docx',\n",
       " '3+.pdf',\n",
       " '4+.docx',\n",
       " '5+ .pdf',\n",
       " '5+.pdf',\n",
       " '5.pdf',\n",
       " '6+.pdf',\n",
       " '7+.pdf',\n",
       " '8+.docx',\n",
       " 'freasher .pdf',\n",
       " 'mteh fresher.pdf']"
      ]
     },
     "execution_count": 120,
     "metadata": {},
     "output_type": "execute_result"
    }
   ],
   "source": [
    "resume_searcher2.getAllFiles()"
   ]
  },
  {
   "cell_type": "code",
   "execution_count": 101,
   "metadata": {},
   "outputs": [
    {
     "data": {
      "text/plain": [
       "[]"
      ]
     },
     "execution_count": 101,
     "metadata": {},
     "output_type": "execute_result"
    }
   ],
   "source": [
    "resume_searcher3.getAllFiles()"
   ]
  },
  {
   "cell_type": "code",
   "execution_count": 121,
   "metadata": {},
   "outputs": [
    {
     "name": "stderr",
     "output_type": "stream",
     "text": [
      "PdfReadWarning: Xref table not zero-indexed. ID numbers for objects will be corrected. [pdf.py:1736]\n"
     ]
    }
   ],
   "source": [
    "linked_data=resume_searcher.getLinkedInData()"
   ]
  },
  {
   "cell_type": "code",
   "execution_count": 122,
   "metadata": {},
   "outputs": [
    {
     "data": {
      "text/plain": [
       "[]"
      ]
     },
     "execution_count": 122,
     "metadata": {},
     "output_type": "execute_result"
    }
   ],
   "source": [
    "linked_data"
   ]
  },
  {
   "cell_type": "code",
   "execution_count": 58,
   "metadata": {},
   "outputs": [],
   "source": [
    "email_data=resume_searcher.getEmail()"
   ]
  },
  {
   "cell_type": "code",
   "execution_count": 59,
   "metadata": {},
   "outputs": [
    {
     "data": {
      "text/plain": [
       "[]"
      ]
     },
     "execution_count": 59,
     "metadata": {},
     "output_type": "execute_result"
    }
   ],
   "source": [
    "email_data"
   ]
  },
  {
   "cell_type": "code",
   "execution_count": 60,
   "metadata": {},
   "outputs": [],
   "source": [
    "github_data=resume_searcher.getGithubData()"
   ]
  },
  {
   "cell_type": "code",
   "execution_count": null,
   "metadata": {},
   "outputs": [],
   "source": []
  },
  {
   "cell_type": "code",
   "execution_count": 107,
   "metadata": {},
   "outputs": [],
   "source": [
    "files_names=resume_searcher2.file_names"
   ]
  },
  {
   "cell_type": "code",
   "execution_count": 131,
   "metadata": {},
   "outputs": [],
   "source": [
    "col_email=[]\n",
    "col_linkedin=[]\n",
    "col_git=[]"
   ]
  },
  {
   "cell_type": "code",
   "execution_count": 132,
   "metadata": {},
   "outputs": [],
   "source": [
    "for i in email_data:\n",
    "    col_email.append(i)"
   ]
  },
  {
   "cell_type": "code",
   "execution_count": 135,
   "metadata": {},
   "outputs": [],
   "source": [
    "for i in linked_data:\n",
    "    col_linkedin.append(i)"
   ]
  },
  {
   "cell_type": "code",
   "execution_count": 134,
   "metadata": {},
   "outputs": [],
   "source": [
    "for i in github_data:\n",
    "    col_git.append(i)"
   ]
  },
  {
   "cell_type": "code",
   "execution_count": null,
   "metadata": {},
   "outputs": [],
   "source": []
  },
  {
   "cell_type": "code",
   "execution_count": 136,
   "metadata": {},
   "outputs": [],
   "source": [
    "d = {'email_id':col_email, 'github_id':col_git, 'linkedin_id':col_linkedin}"
   ]
  },
  {
   "cell_type": "code",
   "execution_count": 137,
   "metadata": {},
   "outputs": [
    {
     "data": {
      "text/plain": [
       "{'email_id': [], 'github_id': [], 'linkedin_id': []}"
      ]
     },
     "execution_count": 137,
     "metadata": {},
     "output_type": "execute_result"
    }
   ],
   "source": [
    "d"
   ]
  },
  {
   "cell_type": "code",
   "execution_count": null,
   "metadata": {},
   "outputs": [],
   "source": [
    "df = pd.DataFrame(d, index=files_names)"
   ]
  },
  {
   "cell_type": "code",
   "execution_count": 139,
   "metadata": {},
   "outputs": [
    {
     "data": {
      "text/html": [
       "<div>\n",
       "<style scoped>\n",
       "    .dataframe tbody tr th:only-of-type {\n",
       "        vertical-align: middle;\n",
       "    }\n",
       "\n",
       "    .dataframe tbody tr th {\n",
       "        vertical-align: top;\n",
       "    }\n",
       "\n",
       "    .dataframe thead th {\n",
       "        text-align: right;\n",
       "    }\n",
       "</style>\n",
       "<table border=\"1\" class=\"dataframe\">\n",
       "  <thead>\n",
       "    <tr style=\"text-align: right;\">\n",
       "      <th></th>\n",
       "      <th>email_id</th>\n",
       "      <th>github_id</th>\n",
       "      <th>linkedin_id</th>\n",
       "    </tr>\n",
       "  </thead>\n",
       "  <tbody>\n",
       "    <tr>\n",
       "      <th>12+ (2).docx</th>\n",
       "      <td>[]</td>\n",
       "      <td>[]</td>\n",
       "      <td>[]</td>\n",
       "    </tr>\n",
       "    <tr>\n",
       "      <th>12+.docx</th>\n",
       "      <td>[]</td>\n",
       "      <td>[]</td>\n",
       "      <td>[]</td>\n",
       "    </tr>\n",
       "    <tr>\n",
       "      <th>15+ (1).pdf</th>\n",
       "      <td>[]</td>\n",
       "      <td>[]</td>\n",
       "      <td>[]</td>\n",
       "    </tr>\n",
       "    <tr>\n",
       "      <th>15+.pdf</th>\n",
       "      <td>[]</td>\n",
       "      <td>[]</td>\n",
       "      <td>[]</td>\n",
       "    </tr>\n",
       "    <tr>\n",
       "      <th>20.pdf</th>\n",
       "      <td>[]</td>\n",
       "      <td>[]</td>\n",
       "      <td>[]</td>\n",
       "    </tr>\n",
       "    <tr>\n",
       "      <th>3+ (2).docx</th>\n",
       "      <td>[]</td>\n",
       "      <td>[]</td>\n",
       "      <td>[]</td>\n",
       "    </tr>\n",
       "    <tr>\n",
       "      <th>3+.docx</th>\n",
       "      <td>[]</td>\n",
       "      <td>[]</td>\n",
       "      <td>[]</td>\n",
       "    </tr>\n",
       "    <tr>\n",
       "      <th>3+.pdf</th>\n",
       "      <td>[]</td>\n",
       "      <td>[]</td>\n",
       "      <td>[]</td>\n",
       "    </tr>\n",
       "    <tr>\n",
       "      <th>4+.docx</th>\n",
       "      <td>[]</td>\n",
       "      <td>[]</td>\n",
       "      <td>[]</td>\n",
       "    </tr>\n",
       "    <tr>\n",
       "      <th>5+ .pdf</th>\n",
       "      <td>[]</td>\n",
       "      <td>[]</td>\n",
       "      <td>[]</td>\n",
       "    </tr>\n",
       "    <tr>\n",
       "      <th>5+.pdf</th>\n",
       "      <td>[]</td>\n",
       "      <td>[]</td>\n",
       "      <td>[]</td>\n",
       "    </tr>\n",
       "    <tr>\n",
       "      <th>5.pdf</th>\n",
       "      <td>[]</td>\n",
       "      <td>[]</td>\n",
       "      <td>[]</td>\n",
       "    </tr>\n",
       "    <tr>\n",
       "      <th>6+.pdf</th>\n",
       "      <td>[]</td>\n",
       "      <td>[]</td>\n",
       "      <td>[]</td>\n",
       "    </tr>\n",
       "    <tr>\n",
       "      <th>7+.pdf</th>\n",
       "      <td>[]</td>\n",
       "      <td>[]</td>\n",
       "      <td>[]</td>\n",
       "    </tr>\n",
       "    <tr>\n",
       "      <th>8+.docx</th>\n",
       "      <td>[]</td>\n",
       "      <td>[]</td>\n",
       "      <td>[]</td>\n",
       "    </tr>\n",
       "    <tr>\n",
       "      <th>freasher .pdf</th>\n",
       "      <td>[]</td>\n",
       "      <td>[]</td>\n",
       "      <td>[]</td>\n",
       "    </tr>\n",
       "    <tr>\n",
       "      <th>mteh fresher.pdf</th>\n",
       "      <td>[]</td>\n",
       "      <td>[]</td>\n",
       "      <td>[]</td>\n",
       "    </tr>\n",
       "  </tbody>\n",
       "</table>\n",
       "</div>"
      ],
      "text/plain": [
       "                 email_id github_id linkedin_id\n",
       "12+ (2).docx           []        []          []\n",
       "12+.docx               []        []          []\n",
       "15+ (1).pdf            []        []          []\n",
       "15+.pdf                []        []          []\n",
       "20.pdf                 []        []          []\n",
       "3+ (2).docx            []        []          []\n",
       "3+.docx                []        []          []\n",
       "3+.pdf                 []        []          []\n",
       "4+.docx                []        []          []\n",
       "5+ .pdf                []        []          []\n",
       "5+.pdf                 []        []          []\n",
       "5.pdf                  []        []          []\n",
       "6+.pdf                 []        []          []\n",
       "7+.pdf                 []        []          []\n",
       "8+.docx                []        []          []\n",
       "freasher .pdf          []        []          []\n",
       "mteh fresher.pdf       []        []          []"
      ]
     },
     "execution_count": 139,
     "metadata": {},
     "output_type": "execute_result"
    }
   ],
   "source": [
    "df"
   ]
  },
  {
   "cell_type": "code",
   "execution_count": null,
   "metadata": {},
   "outputs": [],
   "source": []
  },
  {
   "cell_type": "code",
   "execution_count": null,
   "metadata": {},
   "outputs": [],
   "source": []
  },
  {
   "cell_type": "code",
   "execution_count": null,
   "metadata": {},
   "outputs": [],
   "source": []
  },
  {
   "cell_type": "code",
   "execution_count": null,
   "metadata": {},
   "outputs": [],
   "source": []
  },
  {
   "cell_type": "code",
   "execution_count": null,
   "metadata": {},
   "outputs": [],
   "source": []
  },
  {
   "cell_type": "code",
   "execution_count": null,
   "metadata": {},
   "outputs": [],
   "source": []
  },
  {
   "cell_type": "code",
   "execution_count": null,
   "metadata": {},
   "outputs": [],
   "source": []
  },
  {
   "cell_type": "code",
   "execution_count": null,
   "metadata": {},
   "outputs": [],
   "source": []
  }
 ],
 "metadata": {
  "kernelspec": {
   "display_name": "Python 3",
   "language": "python",
   "name": "python3"
  },
  "language_info": {
   "codemirror_mode": {
    "name": "ipython",
    "version": 3
   },
   "file_extension": ".py",
   "mimetype": "text/x-python",
   "name": "python",
   "nbconvert_exporter": "python",
   "pygments_lexer": "ipython3",
   "version": "3.8.5"
  }
 },
 "nbformat": 4,
 "nbformat_minor": 4
}
