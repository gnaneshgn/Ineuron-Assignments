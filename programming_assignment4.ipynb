{
 "cells": [
  {
   "cell_type": "markdown",
   "metadata": {},
   "source": [
    "1.\tWrite a Python Program to Find the Factorial of a Number?"
   ]
  },
  {
   "cell_type": "code",
   "execution_count": 1,
   "metadata": {},
   "outputs": [],
   "source": [
    "def factorial(n):\n",
    "    \"\"\"This function is used to give the factorial of a number\"\"\"\n",
    "    initial=1\n",
    "    try:\n",
    "        while n>1:\n",
    "            initial=initial*n\n",
    "            n=n-1\n",
    "        return initial\n",
    "    except Exception as e:\n",
    "        print(\"Please pass interger values only\")\n",
    "        "
   ]
  },
  {
   "cell_type": "code",
   "execution_count": 2,
   "metadata": {},
   "outputs": [
    {
     "data": {
      "text/plain": [
       "1"
      ]
     },
     "execution_count": 2,
     "metadata": {},
     "output_type": "execute_result"
    }
   ],
   "source": [
    "factorial(-5)"
   ]
  },
  {
   "cell_type": "code",
   "execution_count": 3,
   "metadata": {},
   "outputs": [
    {
     "name": "stdout",
     "output_type": "stream",
     "text": [
      "Please pass interger values only\n"
     ]
    }
   ],
   "source": [
    "factorial(\"-5\")"
   ]
  },
  {
   "cell_type": "markdown",
   "metadata": {},
   "source": [
    "2.\tWrite a Python Program to Display the multiplication Table?"
   ]
  },
  {
   "cell_type": "code",
   "execution_count": 4,
   "metadata": {},
   "outputs": [],
   "source": [
    "def multiplication(n):\n",
    "    \"\"\"THis function gives the multiplication table of the given number\"\"\"\n",
    "    value=1\n",
    "    try:\n",
    "        if type(n)==int and n>0:\n",
    "            while value<=10:\n",
    "                print(n,\"*\",value,\"=\",n*value)\n",
    "                value=value+1\n",
    "            else:\n",
    "                print(\"--The end\")\n",
    "        else:\n",
    "            print(\"Pass integers only boss\")\n",
    "    except Exception as e:\n",
    "        print(\"Pass Integer\")\n",
    "    \n",
    "        \n",
    "    \n",
    "    "
   ]
  },
  {
   "cell_type": "code",
   "execution_count": 5,
   "metadata": {},
   "outputs": [
    {
     "name": "stdout",
     "output_type": "stream",
     "text": [
      "8 * 1 = 8\n",
      "8 * 2 = 16\n",
      "8 * 3 = 24\n",
      "8 * 4 = 32\n",
      "8 * 5 = 40\n",
      "8 * 6 = 48\n",
      "8 * 7 = 56\n",
      "8 * 8 = 64\n",
      "8 * 9 = 72\n",
      "8 * 10 = 80\n",
      "--The end\n"
     ]
    }
   ],
   "source": [
    "multiplication(8)"
   ]
  },
  {
   "cell_type": "code",
   "execution_count": 6,
   "metadata": {},
   "outputs": [
    {
     "name": "stdout",
     "output_type": "stream",
     "text": [
      "Pass integers only boss\n"
     ]
    }
   ],
   "source": [
    "multiplication(\"aa\")"
   ]
  },
  {
   "cell_type": "markdown",
   "metadata": {},
   "source": [
    "3.\tWrite a Python Program to Print the Fibonacci sequence?"
   ]
  },
  {
   "cell_type": "code",
   "execution_count": 7,
   "metadata": {},
   "outputs": [],
   "source": [
    "def fibonacci(n):\n",
    "    \"\"\"This function gives the fibonacci result of the given value \"\"\"\n",
    "    a=1\n",
    "    b=1\n",
    "    try:\n",
    "        if n>2:\n",
    "            for i in range(n):\n",
    "                yield  a\n",
    "                a,b=b,a+b\n",
    "        else:\n",
    "            print(\"pass data more than 2\")\n",
    "    except Exception as e:\n",
    "        print(\"Please pass interger only\")\n",
    "    "
   ]
  },
  {
   "cell_type": "code",
   "execution_count": 8,
   "metadata": {},
   "outputs": [
    {
     "name": "stdout",
     "output_type": "stream",
     "text": [
      "1\n",
      "1\n",
      "2\n"
     ]
    }
   ],
   "source": [
    "for i in fibonacci(3):\n",
    "    print(i)"
   ]
  },
  {
   "cell_type": "markdown",
   "metadata": {},
   "source": [
    "4.\tWrite a Python Program to Check Armstrong Number?"
   ]
  },
  {
   "cell_type": "code",
   "execution_count": 10,
   "metadata": {},
   "outputs": [],
   "source": [
    "def armstrong(n):\n",
    "    \"\"\"This functions tells about a number is armstrong or not\"\"\"\n",
    "    try:\n",
    "        sum_num=0\n",
    "        temp=n\n",
    "        if type(n)==int:\n",
    "            while temp>0:\n",
    "                digit=tempmp%10\n",
    "                sum_num+=digit **3\n",
    "                temp//=10\n",
    "            if n==sum:\n",
    "                print(\"the num is armstrong\")\n",
    "            else:\n",
    "                print(\"not armstrong\")\n",
    "        else:\n",
    "            print(\"please pass integer only\")\n",
    "    except Exception as e:\n",
    "        print(\"Exception for not passing integer\")"
   ]
  },
  {
   "cell_type": "code",
   "execution_count": 11,
   "metadata": {},
   "outputs": [
    {
     "name": "stdout",
     "output_type": "stream",
     "text": [
      "Exception for not passing integer\n"
     ]
    }
   ],
   "source": [
    "armstrong(370)"
   ]
  },
  {
   "cell_type": "code",
   "execution_count": 12,
   "metadata": {},
   "outputs": [
    {
     "name": "stdout",
     "output_type": "stream",
     "text": [
      "Exception for not passing integer\n"
     ]
    }
   ],
   "source": [
    "armstrong(407)"
   ]
  },
  {
   "cell_type": "code",
   "execution_count": 15,
   "metadata": {},
   "outputs": [],
   "source": [
    "def armstrongRange(from_range,to_range):\n",
    "    \"\"\"This functions tells about a number is armstrong or not\"\"\"\n",
    "    try:\n",
    "        sum_num=0\n",
    "        for i in range(from_range,to_range):\n",
    "            temp=n\n",
    "            while temp>0:\n",
    "                digit=tempmp%10\n",
    "                sum_num+=digit **3\n",
    "                temp//=10\n",
    "            if n==sum:\n",
    "                print(\"the num is armstrong\")\n",
    "            else:\n",
    "                print(\"not armstrong\")\n",
    "    except Exception as e:\n",
    "        print(\"Exception for not passing integer\")"
   ]
  },
  {
   "cell_type": "code",
   "execution_count": 14,
   "metadata": {},
   "outputs": [
    {
     "name": "stdout",
     "output_type": "stream",
     "text": [
      "Exception for not passing integer\n"
     ]
    }
   ],
   "source": [
    "armstrongRange(400,410)"
   ]
  },
  {
   "cell_type": "markdown",
   "metadata": {},
   "source": [
    "6.\tWrite a Python Program to Find the Sum of Natural Numbers?"
   ]
  },
  {
   "cell_type": "code",
   "execution_count": 1,
   "metadata": {},
   "outputs": [],
   "source": [
    "def nnatuarlnumbers(n):\n",
    "    \"\"\"This functions gives the sum of n natural numbers for the given numbers\"\"\"\n",
    "    try:\n",
    "        sum=0\n",
    "        if type(n)==int:\n",
    "            while n >0:\n",
    "                sum=sum+n\n",
    "                n=n-1\n",
    "            print(\"Sum of n natural nums is\",sum)\n",
    "        else :\n",
    "            print(\"Please pass inteers only\")\n",
    "    except Exception as e:\n",
    "        print(\"Exception raised\")"
   ]
  },
  {
   "cell_type": "code",
   "execution_count": 2,
   "metadata": {},
   "outputs": [
    {
     "name": "stdout",
     "output_type": "stream",
     "text": [
      "Sum of n natural nums is 136\n"
     ]
    }
   ],
   "source": [
    "nnatuarlnumbers(16)"
   ]
  },
  {
   "cell_type": "code",
   "execution_count": null,
   "metadata": {},
   "outputs": [],
   "source": []
  }
 ],
 "metadata": {
  "kernelspec": {
   "display_name": "Python 3",
   "language": "python",
   "name": "python3"
  },
  "language_info": {
   "codemirror_mode": {
    "name": "ipython",
    "version": 3
   },
   "file_extension": ".py",
   "mimetype": "text/x-python",
   "name": "python",
   "nbconvert_exporter": "python",
   "pygments_lexer": "ipython3",
   "version": "3.8.5"
  }
 },
 "nbformat": 4,
 "nbformat_minor": 4
}
